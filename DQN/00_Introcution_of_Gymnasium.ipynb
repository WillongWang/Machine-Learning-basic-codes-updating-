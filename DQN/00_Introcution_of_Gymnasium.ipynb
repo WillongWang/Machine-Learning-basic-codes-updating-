{
 "cells": [
  {
   "attachments": {
    "image.png": {
     "image/png": "[encoded data removed]"
    }
   },
   "cell_type": "markdown",
   "id": "7df75598",
   "metadata": {},
   "source": [
    "# The Gymnasium Environments\n",
    "Gymnasium, previously gym, is a standard API for reinforcement Learning, with reference environments included.\n",
    "\n",
    "![image.png](attachment:image.png)\n",
    "\n",
    "---"
   ]
  },
  {
   "cell_type": "markdown",
   "id": "05ac8418",
   "metadata": {},
   "source": [
    "### Install Necessary Packages\n",
    "Restart the kernel to make sure new packages can be successfully found."
   ]
  },
  {
   "cell_type": "code",
   "execution_count": 2,
   "id": "4c436f7a",
   "metadata": {
    "scrolled": true
   },
   "outputs": [
    {
     "name": "stdout",
     "output_type": "stream",
     "text": [
      "Requirement already satisfied: torch in /opt/anaconda3/lib/python3.12/site-packages (from -r requirements.txt (line 1)) (2.5.0)\n",
      "Requirement already satisfied: torchvision in /opt/anaconda3/lib/python3.12/site-packages (from -r requirements.txt (line 2)) (0.20.0)\n",
      "Requirement already satisfied: gymnasium in /opt/anaconda3/lib/python3.12/site-packages (from -r requirements.txt (line 3)) (1.1.1)\n",
      "Requirement already satisfied: pillow in /opt/anaconda3/lib/python3.12/site-packages (from -r requirements.txt (line 5)) (11.1.0)\n",
      "Requirement already satisfied: opencv-python in /opt/anaconda3/lib/python3.12/site-packages (from -r requirements.txt (line 6)) (4.10.0.84)\n",
      "Requirement already satisfied: filelock in /opt/anaconda3/lib/python3.12/site-packages (from torch->-r requirements.txt (line 1)) (3.18.0)\n",
      "Requirement already satisfied: typing-extensions>=4.8.0 in /opt/anaconda3/lib/python3.12/site-packages (from torch->-r requirements.txt (line 1)) (4.12.2)\n",
      "Requirement already satisfied: networkx in /opt/anaconda3/lib/python3.12/site-packages (from torch->-r requirements.txt (line 1)) (3.4.2)\n",
      "Requirement already satisfied: jinja2 in /opt/anaconda3/lib/python3.12/site-packages (from torch->-r requirements.txt (line 1)) (3.1.6)\n",
      "Requirement already satisfied: fsspec in /opt/anaconda3/lib/python3.12/site-packages (from torch->-r requirements.txt (line 1)) (2024.12.0)\n",
      "Requirement already satisfied: setuptools in /opt/anaconda3/lib/python3.12/site-packages (from torch->-r requirements.txt (line 1)) (77.0.3)\n",
      "Requirement already satisfied: sympy==1.13.1 in /opt/anaconda3/lib/python3.12/site-packages (from torch->-r requirements.txt (line 1)) (1.13.1)\n",
      "Requirement already satisfied: mpmath<1.4,>=1.1.0 in /opt/anaconda3/lib/python3.12/site-packages (from sympy==1.13.1->torch->-r requirements.txt (line 1)) (1.3.0)\n",
      "Requirement already satisfied: numpy in /opt/anaconda3/lib/python3.12/site-packages (from torchvision->-r requirements.txt (line 2)) (2.2.4)\n",
      "Requirement already satisfied: cloudpickle>=1.2.0 in /opt/anaconda3/lib/python3.12/site-packages (from gymnasium->-r requirements.txt (line 3)) (3.0.0)\n",
      "Requirement already satisfied: farama-notifications>=0.0.1 in /opt/anaconda3/lib/python3.12/site-packages (from gymnasium->-r requirements.txt (line 3)) (0.0.4)\n",
      "Requirement already satisfied: pygame>=2.1.3 in /opt/anaconda3/lib/python3.12/site-packages (from gymnasium[classic_control]->-r requirements.txt (line 4)) (2.6.1)\n",
      "Requirement already satisfied: MarkupSafe>=2.0 in /opt/anaconda3/lib/python3.12/site-packages (from jinja2->torch->-r requirements.txt (line 1)) (3.0.2)\n",
      "\n",
      "\u001b[1m[\u001b[0m\u001b[34;49mnotice\u001b[0m\u001b[1;39;49m]\u001b[0m\u001b[39;49m A new release of pip is available: \u001b[0m\u001b[31;49m25.1\u001b[0m\u001b[39;49m -> \u001b[0m\u001b[32;49m25.1.1\u001b[0m\n",
      "\u001b[1m[\u001b[0m\u001b[34;49mnotice\u001b[0m\u001b[1;39;49m]\u001b[0m\u001b[39;49m To update, run: \u001b[0m\u001b[32;49mpip install --upgrade pip\u001b[0m\n"
     ]
    }
   ],
   "source": [
    "!pip install -r requirements.txt"
   ]
  },
  {
   "cell_type": "markdown",
   "id": "09aab6e4",
   "metadata": {},
   "source": [
    "### Create an instance of an envrionment\n"
   ]
  },
  {
   "cell_type": "code",
   "execution_count": 3,
   "id": "736a082f",
   "metadata": {},
   "outputs": [],
   "source": [
    "import gymnasium as gym\n",
    "env = gym.make(\"CartPole-v1\", render_mode=\"rgb_array\")"
   ]
  },
  {
   "cell_type": "markdown",
   "id": "1e6678c9",
   "metadata": {},
   "source": [
    "### You can play it as a game:"
   ]
  },
  {
   "cell_type": "code",
   "execution_count": 4,
   "id": "63ae7674",
   "metadata": {},
   "outputs": [
    {
     "data": {
      "text/plain": [
       "'action: left   reward:    1.0'"
      ]
     },
     "metadata": {},
     "output_type": "display_data"
    }
   ],
   "source": [
    "from gymnasium.utils.play import play\n",
    "from IPython.display import display\n",
    "\n",
    "mapping = {\n",
    "    \"a\": 0,\n",
    "    \"d\": 1\n",
    "}\n",
    "\n",
    "def callback(state_1, state_2, action, reward, *_):\n",
    "    display(\"action: {:6} reward: {:6}\".format(\n",
    "        \"right\" if action == 1 else \"left\",\n",
    "        reward\n",
    "    ), clear=True)\n",
    "\n",
    "play(env, keys_to_action=mapping, fps=5, callback=callback)"
   ]
  },
  {
   "cell_type": "markdown",
   "id": "82abba0a",
   "metadata": {},
   "source": [
    "### apply a policy (random policy here):"
   ]
  },
  {
   "cell_type": "code",
   "execution_count": 5,
   "id": "8a225f22",
   "metadata": {
    "scrolled": true
   },
   "outputs": [
    {
     "data": {
      "text/plain": [
       "'observation: [-0.03115116  0.40110052  0.00177133 -0.597774  ] action: 0'"
      ]
     },
     "metadata": {},
     "output_type": "display_data"
    }
   ],
   "source": [
    "def probe(obs, act):\n",
    "    display(\"observation: {} action: {}\".format(obs, act), clear=True)\n",
    "\n",
    "def random_policy(obs, callback=None):\n",
    "    act = env.action_space.sample()\n",
    "    if callback:\n",
    "        callback(obs, act)\n",
    "    return act\n",
    "\n",
    "def simulate(policy, env, steps=1000, policy_callback=None):\n",
    "    obs, info = env.reset()\n",
    "    for _ in range(steps):\n",
    "        action = policy(obs, policy_callback)\n",
    "        obs, reward, terminated, truncated, info = env.step(action)\n",
    "    \n",
    "        if terminated or truncated:\n",
    "            obs, info = env.reset()\n",
    "    env.close()\n",
    "\n",
    "simulate(random_policy, env, policy_callback=probe)"
   ]
  },
  {
   "cell_type": "markdown",
   "id": "ccac5409",
   "metadata": {},
   "source": [
    "To decode the observation and action from vector and scalar, check the [document](https://gymnasium.farama.org/environments/classic_control/cart_pole/)."
   ]
  },
  {
   "cell_type": "markdown",
   "id": "3ff8d5c2",
   "metadata": {},
   "source": [
    "### Or a RL agent:"
   ]
  },
  {
   "cell_type": "code",
   "execution_count": 6,
   "id": "509c31ef",
   "metadata": {},
   "outputs": [
    {
     "name": "stderr",
     "output_type": "stream",
     "text": [
      "/Users/yingmanyouyu/Desktop/待看代码/Tutorial 9 DQN/DQN/dqn.py:27: FutureWarning: You are using `torch.load` with `weights_only=False` (the current default value), which uses the default pickle module implicitly. It is possible to construct malicious pickle data which will execute arbitrary code during unpickling (See https://github.com/pytorch/pytorch/blob/main/SECURITY.md#untrusted-models for more details). In a future release, the default value for `weights_only` will be flipped to `True`. This limits the functions that could be executed during unpickling. Arbitrary objects will no longer be allowed to be loaded via this mode unless they are explicitly allowlisted by the user via `torch.serialization.add_safe_globals`. We recommend you start setting `weights_only=True` for any use case where you don't have full control of the loaded file. Please open an issue on GitHub for any issues related to this experimental feature.\n",
      "  self.net.load_state_dict(torch.load(path))\n"
     ]
    }
   ],
   "source": [
    "import torch\n",
    "from DQN.dqn import DQN, DQNTrainer, EpsGreedy\n",
    "from itertools import count\n",
    "\n",
    "env = gym.make(\"CartPole-v1\", render_mode=\"human\")\n",
    "\n",
    "dim_state = env.observation_space.shape[0]\n",
    "n_actions = env.action_space.n\n",
    "\n",
    "q_net = DQN(dim_state, n_actions)\n",
    "q_net.load(\"DQN/q_net.pth\")\n",
    "\n",
    "policy = EpsGreedy(q_net)\n",
    "\n",
    "state, _ = env.reset()\n",
    "for _ in count():\n",
    "    action = policy.get_action(state)\n",
    "    state, reward, terminated, truncated, info = env.step(action)\n",
    "    if terminated or truncated:\n",
    "        break\n",
    "env.close()"
   ]
  },
  {
   "cell_type": "markdown",
   "id": "06b703b6",
   "metadata": {},
   "source": [
    "### To modify environment\n",
    "Use wrapper to change the environment.\n",
    "\n",
    "For example, to change observation from 4-dimensional vector to visual observation:"
   ]
  },
  {
   "cell_type": "code",
   "execution_count": null,
   "id": "8ac94e15",
   "metadata": {},
   "outputs": [
    {
     "data": {
      "image/jpeg": "[encoded data removed]",
      "image/png": "[encoded data removed]",
      "text/plain": [
       "<PIL.Image.Image image mode=RGB size=600x400>"
      ]
     },
     "metadata": {},
     "output_type": "display_data"
    },
    {
     "data": {
      "text/plain": [
       "'action: 0'"
      ]
     },
     "metadata": {},
     "output_type": "display_data"
    },
    {
     "ename": "",
     "evalue": "",
     "output_type": "error",
     "traceback": [
      "\u001b[1;31mThe Kernel crashed while executing code in the current cell or a previous cell. \n",
      "\u001b[1;31mPlease review the code in the cell(s) to identify a possible cause of the failure. \n",
      "\u001b[1;31mClick <a href='https://aka.ms/vscodeJupyterKernelCrash'>here</a> for more info. \n",
      "\u001b[1;31mView Jupyter <a href='command:jupyter.viewOutput'>log</a> for further details."
     ]
    }
   ],
   "source": [
    "from PIL import Image\n",
    "import time\n",
    "\n",
    "class OnlyPixel(gym.ObservationWrapper):\n",
    "  \"\"\"\n",
    "  Wrapping PixelObservationWrapper to make it really pixel only.\n",
    "  \"\"\"\n",
    "  def __init__(self, env):\n",
    "        super().__init__(env)\n",
    "        self.env = gym.wrappers.AddRenderObservation(env, render_only=True)\n",
    "    \n",
    "  def observation(self, observation):\n",
    "        return observation\n",
    "\n",
    "\n",
    "def pixelProbe(obs, act):\n",
    "    display(Image.fromarray(obs), \"action: {}\".format(act), clear=True)\n",
    "    time.sleep(0.05)\n",
    "\n",
    "env = gym.make(\"CartPole-v1\", render_mode=\"rgb_array\")\n",
    "pixelEnv = OnlyPixel(env)\n",
    "simulate(random_policy, pixelEnv, policy_callback=pixelProbe)\n"
   ]
  }
 ],
 "metadata": {
  "kernelspec": {
   "display_name": "base",
   "language": "python",
   "name": "python3"
  },
  "language_info": {
   "codemirror_mode": {
    "name": "ipython",
    "version": 3
   },
   "file_extension": ".py",
   "mimetype": "text/x-python",
   "name": "python",
   "nbconvert_exporter": "python",
   "pygments_lexer": "ipython3",
   "version": "3.12.0"
  }
 },
 "nbformat": 4,
 "nbformat_minor": 5
}
