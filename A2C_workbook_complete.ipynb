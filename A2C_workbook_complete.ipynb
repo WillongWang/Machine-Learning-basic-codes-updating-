{
  "cells": [
    {
      "cell_type": "code",
      "execution_count": 1,
      "metadata": {
        "id": "Psnh0kqNq-vY"
      },
      "outputs": [
        {
          "name": "stdout",
          "output_type": "stream",
          "text": [
            "Requirement already satisfied: gymnasium in /opt/anaconda3/lib/python3.12/site-packages (1.1.1)\n",
            "Requirement already satisfied: numpy>=1.21.0 in /opt/anaconda3/lib/python3.12/site-packages (from gymnasium) (2.2.4)\n",
            "Requirement already satisfied: cloudpickle>=1.2.0 in /opt/anaconda3/lib/python3.12/site-packages (from gymnasium) (3.0.0)\n",
            "Requirement already satisfied: typing-extensions>=4.3.0 in /opt/anaconda3/lib/python3.12/site-packages (from gymnasium) (4.12.2)\n",
            "Requirement already satisfied: farama-notifications>=0.0.1 in /opt/anaconda3/lib/python3.12/site-packages (from gymnasium) (0.0.4)\n",
            "\n",
            "\u001b[1m[\u001b[0m\u001b[34;49mnotice\u001b[0m\u001b[1;39;49m]\u001b[0m\u001b[39;49m A new release of pip is available: \u001b[0m\u001b[31;49m25.1\u001b[0m\u001b[39;49m -> \u001b[0m\u001b[32;49m25.1.1\u001b[0m\n",
            "\u001b[1m[\u001b[0m\u001b[34;49mnotice\u001b[0m\u001b[1;39;49m]\u001b[0m\u001b[39;49m To update, run: \u001b[0m\u001b[32;49mpip install --upgrade pip\u001b[0m\n",
            "Note: you may need to restart the kernel to use updated packages.\n"
          ]
        }
      ],
      "source": [
        "%pip install gymnasium\n",
        "import gymnasium as gym\n",
        "\n",
        "import torch\n",
        "import torch.nn as nn\n",
        "import torch.nn.functional as F\n",
        "import torch.optim as optim\n",
        "\n",
        "import numpy as np\n",
        "import matplotlib.pyplot as plt\n",
        "from IPython.display import clear_output\n",
        "from time import sleep\n",
        "\n",
        "from tqdm.notebook import tqdm\n",
        "from collections import namedtuple\n",
        "from collections import deque\n",
        "import random\n",
        "\n",
        "from typing import List, Dict, Tuple"
      ]
    },
    {
      "cell_type": "markdown",
      "metadata": {
        "id": "-DyjOATDq-va"
      },
      "source": [
        "<a href=\"https://colab.research.google.com/github/EffiSciencesResearch/ML4G-2.0/blob/master/workshops/rl/A2C-workbook-complete.ipynb\" target=\"_parent\"><img src=\"https://colab.research.google.com/assets/colab-badge.svg\" alt=\"Open In Colab\"/></a>## Value and target networks\n",
        "First we develop the value network class for A2C. We will use an MLP for the value network. Remeber that the value network in A2C is a state value network, and maps from states to a single value, $V(s;\\phi)$. The target network has the same architecture as the value network, but uses a lagged set of parameters $\\phi^-$.\n",
        "\n",
        "### Architecture recommendations\n",
        "* Use 3 hidden layers with 128 units each\n",
        "* Use ReLU activations"
      ]
    },
    {
      "cell_type": "code",
      "execution_count": 2,
      "metadata": {},
      "outputs": [
        {
          "name": "stderr",
          "output_type": "stream",
          "text": [
            "/opt/anaconda3/lib/python3.12/site-packages/gymnasium/spaces/box.py:235: UserWarning: \u001b[33mWARN: Box low's precision lowered by casting to float32, current low.dtype=float64\u001b[0m\n",
            "  gym.logger.warn(\n",
            "/opt/anaconda3/lib/python3.12/site-packages/gymnasium/spaces/box.py:305: UserWarning: \u001b[33mWARN: Box high's precision lowered by casting to float32, current high.dtype=float64\u001b[0m\n",
            "  gym.logger.warn(\n"
          ]
        },
        {
          "data": {
            "text/plain": [
              "array([-0.33645383,  1.8744674 ], dtype=float32)"
            ]
          },
          "execution_count": 2,
          "metadata": {},
          "output_type": "execute_result"
        }
      ],
      "source": [
        "# g=gym.spaces.Box(0, 1, shape=(2,))\n",
        "# g.sample()\n",
        "# g=gym.spaces.Box(0, 1)\n",
        "# g.sample()\n",
        "# g=gym.spaces.Box(low=-1.0, high=2.0, shape=(3, 4), dtype=np.float32)\n",
        "# g.sample()\n",
        "g=gym.spaces.Box(low=np.array([-1.0, -2.0]), high=np.array([2.0, 4.0]), dtype=np.float32)\n",
        "g.sample()"
      ]
    },
    {
      "cell_type": "code",
      "execution_count": 3,
      "metadata": {
        "id": "M4IveZK1q-va"
      },
      "outputs": [],
      "source": [
        "# Define the (state) value network\n",
        "class VNet(nn.Module):\n",
        "    # Initialise the network\n",
        "    def __init__(self, env: gym.Env):\n",
        "        # Call the parent class\n",
        "        super().__init__()\n",
        "        # Set the input and output size\n",
        "        self.obs_dim = env.observation_space.shape[0] #默认observation_space(gym.spaces.Box)只有一个sample吧？\n",
        "        # Define the layers of the network\n",
        "        self.layers = nn.Sequential(\n",
        "            nn.Linear(self.obs_dim, 128),\n",
        "            nn.ReLU(),\n",
        "            nn.Linear(128, 128),\n",
        "            nn.ReLU(),\n",
        "            nn.Linear(128, 128),\n",
        "            nn.ReLU(),\n",
        "            nn.Linear(128, 1),\n",
        "        )\n",
        "\n",
        "    def forward(self, x):\n",
        "        return self.layers(x)"
      ]
    },
    {
      "cell_type": "markdown",
      "metadata": {
        "id": "JO3ogxdAq-vb"
      },
      "source": [
        "## Policy network\n",
        "Next we develop the policy network class for A2C. We will again use an MLP for the policy network. Remeber that the policy network maps from states to a distribution over actions, $\\pi(a|s;\\theta)$\n",
        "\n",
        "### Architecture recommendations\n",
        "* Use 3 hidden layers with 128 units each\n",
        "* Use ReLU activations\n",
        "* In the last layer, use a softmax activation function to output a probability distribution over actions"
      ]
    },
    {
      "cell_type": "code",
      "execution_count": 4,
      "metadata": {
        "id": "gNaXmUnLq-vb"
      },
      "outputs": [],
      "source": [
        "# Define the policy network\n",
        "class PolicyNet(nn.Module):\n",
        "    # Initialise the network\n",
        "    def __init__(self, env: gym.Env):\n",
        "        # Call the parent class\n",
        "        super().__init__()\n",
        "        # Set the input and output size\n",
        "        self.obs_dim = env.observation_space.shape[0]\n",
        "        self.n_actions = env.action_space.n #https://github.com/Farama-Foundation/Gymnasium/blob/main/gymnasium/spaces/discrete.py\n",
        "        # Define the layers of the network\n",
        "        self.layers = nn.Sequential(\n",
        "            nn.Linear(self.obs_dim, 128),\n",
        "            nn.ReLU(),\n",
        "            nn.Linear(128, 128),\n",
        "            nn.ReLU(),\n",
        "            nn.Linear(128, 128),\n",
        "            nn.ReLU(),\n",
        "            nn.Linear(128, self.n_actions),\n",
        "            # After the last linear layer of the network apply a softmax function at dim=-1\n",
        "            nn.Softmax(dim=-1),\n",
        "        )\n",
        "\n",
        "    def forward(self, x):\n",
        "        return self.layers(x)"
      ]
    },
    {
      "cell_type": "markdown",
      "metadata": {
        "id": "RKsCGI8gq-vc"
      },
      "source": [
        "## A2C agent\n",
        "Finally, we develop the A2C agent class. The agent a policy network, a value network, and a target value network. The policy network and value network both have optimisers. We will also implement a method to sample actions from the policy network and sync the target value network with the value network."
      ]
    },
    {
      "cell_type": "code",
      "execution_count": 5,
      "metadata": {
        "id": "TBeRNsgoq-vc"
      },
      "outputs": [],
      "source": [
        "# Define the agent\n",
        "class A2CAgent:\n",
        "    # Initialise the agent\n",
        "    def __init__(\n",
        "        self, env: gym.Env, gamma: float = 0.98, value_lr: float = 0.001, policy_lr: float = 0.0005\n",
        "    ):\n",
        "        # Set the discount factor\n",
        "        self.gamma = gamma\n",
        "        # Create the value network\n",
        "        self.value_network = VNet(env)\n",
        "        # Create the target value network\n",
        "        self.target_network = VNet(env)\n",
        "        # Sync the target value network with the value network\n",
        "        self.sync()\n",
        "        # Create the policy network\n",
        "        self.policy_network = PolicyNet(env)\n",
        "        # Create the value optimizer\n",
        "        self.value_optimizer = optim.Adam(self.value_network.parameters(), lr=value_lr)\n",
        "        # Create the policy optimizer. Remeber that we are maximising the policy objective\n",
        "        self.policy_optimizer = optim.Adam(\n",
        "            self.policy_network.parameters(), lr=policy_lr, maximize=True\n",
        "        )\n",
        "\n",
        "    # Create the sync method\n",
        "    def sync(self):\n",
        "        # Get the state dict of the value network\n",
        "        value_state_dict = self.value_network.state_dict()\n",
        "        # Load the state dict into the target value network\n",
        "        self.target_network.load_state_dict(value_state_dict)\n",
        "\n",
        "    # Define the sample action function\n",
        "    def sample_action(self, state: np.ndarray) -> int:\n",
        "        # Convert the state to a tensor\n",
        "        state = torch.tensor(state, dtype=torch.float32)\n",
        "        # Enter no gradient mode\n",
        "        with torch.no_grad():\n",
        "            # Get the action probabilities\n",
        "            action_probs = self.policy_network(state)\n",
        "        # Sample the action\n",
        "        action = np.random.choice(len(action_probs), p=action_probs.numpy())\n",
        "        return action"
      ]
    },
    {
      "cell_type": "markdown",
      "metadata": {
        "id": "pJVxuOFDq-vd"
      },
      "source": [
        "## Interacting with the environment\n",
        "\n",
        "This method interacts the agent with the environment for a number of steps. This is much the same as interaction in DQN"
      ]
    },
    {
      "cell_type": "code",
      "execution_count": 6,
      "metadata": {
        "id": "9qoiF2hxq-vd"
      },
      "outputs": [],
      "source": [
        "# Define the interact function\n",
        "def interact(agent: A2CAgent, env: gym.Env, steps: int) -> Tuple[List[dict], List[float]]:\n",
        "    # Initialise the data storage\n",
        "    batch = []\n",
        "    # Initialise the returns list\n",
        "    return_list = [] #rewards\n",
        "    # Initialize the state\n",
        "    state, _ = env.reset() #state: an element of observation_space (typically a numpy array) \n",
        "    # Initialize the episode return\n",
        "    episode_return = 0\n",
        "    for _ in range(steps):\n",
        "        # Create a dictionary to store the datapoint\n",
        "        data = {\"state\": state}\n",
        "        # Choose the action\n",
        "        action = agent.sample_action(state)\n",
        "        data[\"action\"] = action\n",
        "        # Perform the action in the environment\n",
        "        next_state, reward, terminated, truncated, _ = env.step(action)\n",
        "        data[\"reward\"] = reward\n",
        "        data[\"next_state\"] = next_state\n",
        "        data[\"terminated\"] = terminated\n",
        "        episode_return += reward\n",
        "        batch.append(data)\n",
        "        # Update the state\n",
        "        state = next_state\n",
        "        # Check if the episode is over\n",
        "        if terminated or truncated:\n",
        "            # Store the episode reward\n",
        "            return_list.append(episode_return)\n",
        "            # Reset the episode reward\n",
        "            episode_return = 0\n",
        "            # Reset the environment\n",
        "            state, _ = env.reset()\n",
        "    return batch, return_list"
      ]
    },
    {
      "cell_type": "markdown",
      "metadata": {
        "id": "8b2umnqTq-ve"
      },
      "source": [
        "## Training the value network\n",
        "\n",
        "For each batch of data, we first train the value network. This involves looping over the following steps:\n",
        "1. Extract a mini-batch of data\n",
        "2. Compute the regression targets. Remember that these are given by $$y_i = r_i + \\gamma V(s'_i;\\phi^-)$$ where $\\phi^-$ are the parameters of the target value network\n",
        "3. Compute the mean square error loss between the predicted values and the regression targets\n",
        "4. Backpropagate the loss through the value network and update the value network parameters\n",
        "\n",
        "After following this procedure for a number of iterations, we sync the target value network with the value network, $$\\phi^- \\gets \\phi$$\n",
        "\n",
        "\n"
      ]
    },
    {
      "cell_type": "code",
      "execution_count": 7,
      "metadata": {
        "id": "JkQLUTQ2q-ve"
      },
      "outputs": [],
      "source": [
        "def train_value_network(\n",
        "    batch: List[dict], agent: A2CAgent, num_iterations: int, mini_batch_size: int = 32\n",
        "):\n",
        "\n",
        "    # Perform num_iterations gradient updates\n",
        "    for ii in range(num_iterations):\n",
        "        # Sample a mini_batch of data from the batch\n",
        "        mini_batch = random.sample(batch, mini_batch_size) # python函数\n",
        "        # Extract the mini-batch of states as float32 tensors\n",
        "        states = torch.tensor(\n",
        "            [transition[\"state\"] for transition in mini_batch], dtype=torch.float32\n",
        "        )\n",
        "        # Extract the mini-batch of rewards as float32 tensors\n",
        "        rewards = torch.tensor(\n",
        "            [transition[\"reward\"] for transition in mini_batch], dtype=torch.float32\n",
        "        )\n",
        "        rewards = rewards.unsqueeze(-1)\n",
        "        # Extract the mini-batch of next states as float32 tensors\n",
        "        next_states = torch.tensor(\n",
        "            [transition[\"next_state\"] for transition in mini_batch], dtype=torch.float32\n",
        "        )\n",
        "        # Extract the mini-batch of terminated flags as bool tensors\n",
        "        terminated = torch.tensor(\n",
        "            [transition[\"terminated\"] for transition in mini_batch], dtype=torch.bool\n",
        "        )\n",
        "\n",
        "        # Enter no-gradient mode\n",
        "        with torch.no_grad():\n",
        "            # Compute the next state values using the target network\n",
        "            next_state_value = agent.target_network(next_states)\n",
        "            # Zero out the next state values for the terminal states\n",
        "            next_state_value[terminated] = 0\n",
        "            # Compute the regression targets\n",
        "            regression_targets = rewards + agent.gamma * next_state_value\n",
        "\n",
        "        # Compute the value predictions\n",
        "        value_predictions = agent.value_network(states)\n",
        "        # Compute the loss\n",
        "        loss = F.mse_loss(value_predictions, regression_targets)\n",
        "        # Zero the gradients\n",
        "        agent.value_optimizer.zero_grad()\n",
        "        # Compute the gradients\n",
        "        loss.backward()\n",
        "        # Update the weights\n",
        "        agent.value_optimizer.step()\n",
        "\n",
        "    # Finally, at the end of the training loop, sync the target network with the value network\n",
        "    agent.sync()"
      ]
    },
    {
      "cell_type": "markdown",
      "metadata": {
        "id": "ClbRFwjeq-ve"
      },
      "source": [
        "## Training the policy network\n",
        "\n",
        "For each batch of data, we perform a single update of the policy network.\n",
        "1. Loop through the batch of data. For each data point, compute the advantage estimate, $A_i = r_i + \\gamma V(s'_i;\\phi) - V(s_i;\\phi)$\n",
        "2. Compute the policy objective, $$J(\\theta) = \\frac{1}{N} \\sum_i A_i \\log \\pi(a_i|s_i;\\theta)$$\n",
        "3. Perform a gradient ascent step on the policy objective"
      ]
    },
    {
      "cell_type": "code",
      "execution_count": 8,
      "metadata": {
        "id": "o6ymT882q-ve"
      },
      "outputs": [],
      "source": [
        "def train_policy_network(batch: List[Dict], agent: A2CAgent):\n",
        "    # Create the policy objective\n",
        "    J = 0\n",
        "    # Iterate through the batch and form the regression targets using the TD error\n",
        "    for point in batch:\n",
        "        state = torch.tensor(point[\"state\"], dtype=torch.float32)\n",
        "        action = point[\"action\"]\n",
        "        reward = torch.tensor(point[\"reward\"], dtype=torch.float32)\n",
        "        next_state = torch.tensor(point[\"next_state\"], dtype=torch.float32)\n",
        "        terminated = point[\"terminated\"]\n",
        "        # Enter no gradient mode:\n",
        "        with torch.no_grad():\n",
        "            # Compute the next state values using the target network\n",
        "            next_state_value = agent.target_network(next_state)\n",
        "            # Zero out the next state values for the terminal states\n",
        "            next_state_value[terminated] = 0\n",
        "            # Compute the advantage\n",
        "            advantage = reward + agent.gamma * next_state_value - agent.value_network(state)\n",
        "\n",
        "        # Compute the log probability of the action\n",
        "        log_prob = torch.log(agent.policy_network(state))[action]\n",
        "        # Add advantage times log probability to the policy objective\n",
        "        J += advantage * log_prob\n",
        "\n",
        "    # Divide J by the number of datapoints in the batch\n",
        "    J = J / len(batch)\n",
        "\n",
        "    # Zero the gradients\n",
        "    agent.policy_optimizer.zero_grad()\n",
        "    # Compute the gradients\n",
        "    J.backward()\n",
        "    # Take a step with the optimiser\n",
        "    agent.policy_optimizer.step()"
      ]
    },
    {
      "cell_type": "markdown",
      "metadata": {
        "id": "LpbJ9Qboq-vf"
      },
      "source": [
        "## Implementing the training loop\n",
        "\n",
        "Finally, we implement the training loop.\n",
        "1. Interact with the environment for a number of steps, getting a batch of data\n",
        "2. Train the value network\n",
        "3. Train the policy network"
      ]
    },
    {
      "cell_type": "code",
      "execution_count": 9,
      "metadata": {
        "id": "hgyPitvpq-vf"
      },
      "outputs": [],
      "source": [
        "def train_loop(\n",
        "    agent: A2CAgent, env: gym.Env, num_epochs: int, steps_per_epoch: int = 1000\n",
        ") -> List[float]:\n",
        "    # Create a list to store all the rewards\n",
        "    all_returns = []\n",
        "    # Loop over the number of epochs\n",
        "    for epoch in tqdm(range(num_epochs)):\n",
        "        # Interact with the environment\n",
        "        batch, return_list = interact(agent, env, steps_per_epoch)\n",
        "        # Train the value network\n",
        "        train_value_network(batch, agent, num_iterations=100)\n",
        "        # Train the policy network\n",
        "        train_policy_network(batch, agent)\n",
        "        # Store the rewards\n",
        "        all_returns.extend(return_list)\n",
        "    return all_returns"
      ]
    },
    {
      "cell_type": "markdown",
      "metadata": {
        "id": "B-9d6UAmq-vf"
      },
      "source": [
        "## Helper functions\n",
        "We define some helper functions to:\n",
        "1. Evaluate the agent's performance\n",
        "2. Visualise the agent's performance\n",
        "3. Plot the (smoothed) returns from training episodes"
      ]
    },
    {
      "cell_type": "code",
      "execution_count": 10,
      "metadata": {
        "id": "VWZqrD6aq-vf"
      },
      "outputs": [],
      "source": [
        "# Plot the returns\n",
        "def plot_returns(return_list):\n",
        "    plt.xlabel(\"Episode number\")\n",
        "    plt.plot(return_list)\n",
        "    plt.ylabel(\"Return\")\n",
        "    plt.xlim(0, len(return_list))\n",
        "    plt.ylim(0.9 * min(return_list), 1.1 * max(return_list))\n",
        "    plt.show()"
      ]
    },
    {
      "cell_type": "code",
      "execution_count": 11,
      "metadata": {
        "id": "8BQNkFsQq-vf"
      },
      "outputs": [],
      "source": [
        "# Define the evaluate function\n",
        "def evaluate(agent: A2CAgent, env: gym.Env, n_episodes: int) -> float:\n",
        "    # Initialise the list of rewards\n",
        "    returns = []\n",
        "\n",
        "    # Loop over the episodes\n",
        "    for episode in tqdm(range(n_episodes)):\n",
        "        # Get the initial state\n",
        "        state, _ = env.reset()\n",
        "        # Initialise the episode reward\n",
        "        episode_return = 0\n",
        "\n",
        "        # Loop over the steps\n",
        "        while True:\n",
        "            # Choose the action according to the policy\n",
        "            action = agent.sample_action(state)\n",
        "            # Take the action\n",
        "            next_state, reward, terminated, truncated, info = env.step(action)\n",
        "            # Update the state and reward\n",
        "            state = next_state\n",
        "            episode_return += reward\n",
        "            # Break if the episode has terminated\n",
        "            if terminated or truncated:\n",
        "                break\n",
        "\n",
        "        # Append the episode reward to the list of rewards\n",
        "        returns.append(episode_return)\n",
        "    # Return the mean of the rewards\n",
        "    return np.mean(returns)"
      ]
    },
    {
      "cell_type": "code",
      "execution_count": 12,
      "metadata": {
        "id": "acseqROnq-vg"
      },
      "outputs": [],
      "source": [
        "# Define the visualise function\n",
        "# This displays the agent's behaviour in the environment for n_steps.\n",
        "def visualise(agent: A2CAgent, env: gym.Env, n_steps: int):\n",
        "    # Reset the environment\n",
        "    state, _ = env.reset()\n",
        "\n",
        "    # Initialise the list of frames\n",
        "    frames = []\n",
        "\n",
        "    for _ in range(n_steps):\n",
        "        # Render the environment and store the frame\n",
        "        frames.append(env.render())\n",
        "\n",
        "        # Take an action\n",
        "        action = agent.sample_action(state)\n",
        "        next_state, reward, terminated, truncated, info = env.step(action)\n",
        "        # Update the state\n",
        "        state = next_state\n",
        "        # Check if the episode is over\n",
        "        if terminated or truncated:\n",
        "            state, _ = env.reset()\n",
        "\n",
        "    # Display the movie\n",
        "    for frame in frames:\n",
        "        clear_output(wait=True)\n",
        "        plt.imshow(frame)\n",
        "        plt.show()\n",
        "        sleep(0.003)"
      ]
    },
    {
      "cell_type": "markdown",
      "metadata": {
        "id": "bjFTDdI8q-vg"
      },
      "source": [
        "# Let's gooooooooo"
      ]
    },
    {
      "cell_type": "code",
      "execution_count": 13,
      "metadata": {
        "id": "qs-Wtu-Wq-vg"
      },
      "outputs": [],
      "source": [
        "# Create the environment\n",
        "env = gym.make(\"CartPole-v1\", render_mode=\"rgb_array\")\n",
        "# Create the agent\n",
        "agent = A2CAgent(env)"
      ]
    },
    {
      "cell_type": "code",
      "execution_count": 14,
      "metadata": {
        "id": "6cpNLt4zq-vg"
      },
      "outputs": [
        {
          "data": {
            "application/vnd.jupyter.widget-view+json": {
              "model_id": "46f008772738495ca10612ee81924393",
              "version_major": 2,
              "version_minor": 0
            },
            "text/plain": [
              "  0%|          | 0/100 [00:00<?, ?it/s]"
            ]
          },
          "metadata": {},
          "output_type": "display_data"
        },
        {
          "name": "stdout",
          "output_type": "stream",
          "text": [
            "Performance before training: 23.32\n"
          ]
        }
      ],
      "source": [
        "# Evaluate the agent's performance before training\n",
        "print(\"Performance before training:\", evaluate(agent, env, 100))"
      ]
    },
    {
      "cell_type": "code",
      "execution_count": 15,
      "metadata": {
        "id": "8L02uBxtq-vg"
      },
      "outputs": [
        {
          "data": {
            "image/png": "[encoded data removed]",
            "text/plain": [
              "<Figure size 640x480 with 1 Axes>"
            ]
          },
          "metadata": {},
          "output_type": "display_data"
        }
      ],
      "source": [
        "%pip install pygame\n",
        "# Visualise the agent's behaviour\n",
        "visualise(agent, env, 100)"
      ]
    },
    {
      "cell_type": "code",
      "execution_count": 16,
      "metadata": {
        "id": "U_kMthCEq-vg"
      },
      "outputs": [
        {
          "data": {
            "application/vnd.jupyter.widget-view+json": {
              "model_id": "1c9c34cb1a4c45568794efbdb95ae6a4",
              "version_major": 2,
              "version_minor": 0
            },
            "text/plain": [
              "  0%|          | 0/150 [00:00<?, ?it/s]"
            ]
          },
          "metadata": {},
          "output_type": "display_data"
        },
        {
          "name": "stderr",
          "output_type": "stream",
          "text": [
            "/var/folders/2l/60vq7_hn4rv7mkg13339zghc0000gn/T/ipykernel_25927/3431193994.py:10: UserWarning: Creating a tensor from a list of numpy.ndarrays is extremely slow. Please consider converting the list to a single numpy.ndarray with numpy.array() before converting to a tensor. (Triggered internally at /Users/runner/work/pytorch/pytorch/pytorch/torch/csrc/utils/tensor_new.cpp:281.)\n",
            "  states = torch.tensor(\n"
          ]
        }
      ],
      "source": [
        "return_list = train_loop(agent, env, num_epochs=150, steps_per_epoch=800)"
      ]
    },
    {
      "cell_type": "code",
      "execution_count": 17,
      "metadata": {
        "id": "nUwhgP4sq-vg"
      },
      "outputs": [
        {
          "data": {
            "image/png": "[encoded data removed]",
            "text/plain": [
              "<Figure size 640x480 with 1 Axes>"
            ]
          },
          "metadata": {},
          "output_type": "display_data"
        }
      ],
      "source": [
        "plot_returns(return_list)"
      ]
    },
    {
      "cell_type": "code",
      "execution_count": 18,
      "metadata": {
        "id": "ovH86om2q-vg"
      },
      "outputs": [
        {
          "data": {
            "application/vnd.jupyter.widget-view+json": {
              "model_id": "943c5ccaca514b9d8086e61b8e544777",
              "version_major": 2,
              "version_minor": 0
            },
            "text/plain": [
              "  0%|          | 0/100 [00:00<?, ?it/s]"
            ]
          },
          "metadata": {},
          "output_type": "display_data"
        },
        {
          "name": "stdout",
          "output_type": "stream",
          "text": [
            "Performance before training: 493.71\n"
          ]
        }
      ],
      "source": [
        "# Evaluate the agent's performance before training\n",
        "print(\"Performance before training:\", evaluate(agent, env, 100))"
      ]
    },
    {
      "cell_type": "code",
      "execution_count": 19,
      "metadata": {
        "id": "-jUhLz9mq-vh"
      },
      "outputs": [
        {
          "data": {
            "image/png": "[encoded data removed]",
            "text/plain": [
              "<Figure size 640x480 with 1 Axes>"
            ]
          },
          "metadata": {},
          "output_type": "display_data"
        }
      ],
      "source": [
        "# Visualise the agent's behaviour\n",
        "visualise(agent, env, 500)"
      ]
    }
  ],
  "metadata": {
    "colab": {
      "provenance": []
    },
    "kernelspec": {
      "display_name": "base",
      "language": "python",
      "name": "python3"
    },
    "language_info": {
      "codemirror_mode": {
        "name": "ipython",
        "version": 3
      },
      "file_extension": ".py",
      "mimetype": "text/x-python",
      "name": "python",
      "nbconvert_exporter": "python",
      "pygments_lexer": "ipython3",
      "version": "3.12.0"
    }
  },
  "nbformat": 4,
  "nbformat_minor": 0
}
