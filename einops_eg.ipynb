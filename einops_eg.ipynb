{
 "cells": [
  {
   "cell_type": "code",
   "execution_count": 1,
   "id": "b6587c49-c902-47af-ac43-853d52c65f7b",
   "metadata": {},
   "outputs": [],
   "source": [
    "from einops import rearrange\n",
    "import torch\n",
    "ims = torch.tensor([\n",
    "    [[[ 1], [ 2]], [[ 3], [ 4]]],  # Batch 0\n",
    "    [[[ 5], [ 6]], [[ 7], [ 8]]],  # Batch 1\n",
    "    [[[ 9], [10]], [[11], [12]]],  # Batch 2\n",
    "    [[[13], [14]], [[15], [16]]],  # Batch 3\n",
    "    [[[17], [18]], [[19], [20]]],  # Batch 4\n",
    "    [[[21], [22]], [[23], [24]]],  # Batch 5\n",
    "])"
   ]
  },
  {
   "cell_type": "code",
   "execution_count": 2,
   "id": "eee83844-5273-43ab-ab13-7b8d0d199169",
   "metadata": {},
   "outputs": [
    {
     "data": {
      "text/plain": [
       "tensor([[[ 1],\n",
       "         [ 2]],\n",
       "\n",
       "        [[ 3],\n",
       "         [ 4]],\n",
       "\n",
       "        [[ 5],\n",
       "         [ 6]],\n",
       "\n",
       "        [[ 7],\n",
       "         [ 8]],\n",
       "\n",
       "        [[ 9],\n",
       "         [10]],\n",
       "\n",
       "        [[11],\n",
       "         [12]],\n",
       "\n",
       "        [[13],\n",
       "         [14]],\n",
       "\n",
       "        [[15],\n",
       "         [16]],\n",
       "\n",
       "        [[17],\n",
       "         [18]],\n",
       "\n",
       "        [[19],\n",
       "         [20]],\n",
       "\n",
       "        [[21],\n",
       "         [22]],\n",
       "\n",
       "        [[23],\n",
       "         [24]]])"
      ]
     },
     "execution_count": 2,
     "metadata": {},
     "output_type": "execute_result"
    }
   ],
   "source": [
    "rearrange(ims, \"b h w c -> (b h) w c\") #(bh)这一维是b1_h1,b1_h2,b2_h1,b2_h2,b3_h1,b3_h2...,下同理"
   ]
  },
  {
   "cell_type": "code",
   "execution_count": 3,
   "id": "4b4e388f-f286-4ec3-906b-78bece06616e",
   "metadata": {},
   "outputs": [
    {
     "data": {
      "text/plain": [
       "tensor([[[ 1],\n",
       "         [ 2]],\n",
       "\n",
       "        [[ 5],\n",
       "         [ 6]],\n",
       "\n",
       "        [[ 9],\n",
       "         [10]],\n",
       "\n",
       "        [[13],\n",
       "         [14]],\n",
       "\n",
       "        [[17],\n",
       "         [18]],\n",
       "\n",
       "        [[21],\n",
       "         [22]],\n",
       "\n",
       "        [[ 3],\n",
       "         [ 4]],\n",
       "\n",
       "        [[ 7],\n",
       "         [ 8]],\n",
       "\n",
       "        [[11],\n",
       "         [12]],\n",
       "\n",
       "        [[15],\n",
       "         [16]],\n",
       "\n",
       "        [[19],\n",
       "         [20]],\n",
       "\n",
       "        [[23],\n",
       "         [24]]])"
      ]
     },
     "execution_count": 3,
     "metadata": {},
     "output_type": "execute_result"
    }
   ],
   "source": [
    "rearrange(ims, \"b h w c -> (h b) w c\")"
   ]
  },
  {
   "cell_type": "code",
   "execution_count": 4,
   "id": "73742e0d-b458-466c-8a99-38ba3f0d0b9b",
   "metadata": {},
   "outputs": [
    {
     "data": {
      "text/plain": [
       "tensor([[[ 1],\n",
       "         [ 2],\n",
       "         [ 5],\n",
       "         [ 6],\n",
       "         [ 9],\n",
       "         [10],\n",
       "         [13],\n",
       "         [14],\n",
       "         [17],\n",
       "         [18],\n",
       "         [21],\n",
       "         [22]],\n",
       "\n",
       "        [[ 3],\n",
       "         [ 4],\n",
       "         [ 7],\n",
       "         [ 8],\n",
       "         [11],\n",
       "         [12],\n",
       "         [15],\n",
       "         [16],\n",
       "         [19],\n",
       "         [20],\n",
       "         [23],\n",
       "         [24]]])"
      ]
     },
     "execution_count": 4,
     "metadata": {},
     "output_type": "execute_result"
    }
   ],
   "source": [
    "rearrange(ims, \"b h w c -> h (b w) c\")"
   ]
  },
  {
   "cell_type": "code",
   "execution_count": 5,
   "id": "d1636e5e-14e9-44a5-a6dc-891875618bd2",
   "metadata": {},
   "outputs": [
    {
     "data": {
      "text/plain": [
       "tensor([[[[[ 1],\n",
       "           [ 2]],\n",
       "\n",
       "          [[ 3],\n",
       "           [ 4]]],\n",
       "\n",
       "\n",
       "         [[[ 5],\n",
       "           [ 6]],\n",
       "\n",
       "          [[ 7],\n",
       "           [ 8]]],\n",
       "\n",
       "\n",
       "         [[[ 9],\n",
       "           [10]],\n",
       "\n",
       "          [[11],\n",
       "           [12]]]],\n",
       "\n",
       "\n",
       "\n",
       "        [[[[13],\n",
       "           [14]],\n",
       "\n",
       "          [[15],\n",
       "           [16]]],\n",
       "\n",
       "\n",
       "         [[[17],\n",
       "           [18]],\n",
       "\n",
       "          [[19],\n",
       "           [20]]],\n",
       "\n",
       "\n",
       "         [[[21],\n",
       "           [22]],\n",
       "\n",
       "          [[23],\n",
       "           [24]]]]])"
      ]
     },
     "execution_count": 5,
     "metadata": {},
     "output_type": "execute_result"
    }
   ],
   "source": [
    "rearrange(ims, \"(b1 b2) h w c -> b1 b2 h w c \", b1=2)"
   ]
  },
  {
   "cell_type": "code",
   "execution_count": 6,
   "id": "07e559ed-ee16-4422-8bb0-058e80ddebc0",
   "metadata": {},
   "outputs": [
    {
     "data": {
      "text/plain": [
       "tensor([[[ 1],\n",
       "         [ 2],\n",
       "         [ 5],\n",
       "         [ 6],\n",
       "         [ 9],\n",
       "         [10]],\n",
       "\n",
       "        [[ 3],\n",
       "         [ 4],\n",
       "         [ 7],\n",
       "         [ 8],\n",
       "         [11],\n",
       "         [12]],\n",
       "\n",
       "        [[13],\n",
       "         [14],\n",
       "         [17],\n",
       "         [18],\n",
       "         [21],\n",
       "         [22]],\n",
       "\n",
       "        [[15],\n",
       "         [16],\n",
       "         [19],\n",
       "         [20],\n",
       "         [23],\n",
       "         [24]]])"
      ]
     },
     "execution_count": 6,
     "metadata": {},
     "output_type": "execute_result"
    }
   ],
   "source": [
    "rearrange(ims, \"(b1 b2) h w c -> (b1 h) (b2 w) c \", b1=2) #上一个(b1,b2,h,w,c)张量的b11_h1有三个"
   ]
  },
  {
   "cell_type": "code",
   "execution_count": 7,
   "id": "54b034b5-6ef7-43f6-867f-5e2700b2145e",
   "metadata": {},
   "outputs": [
    {
     "data": {
      "text/plain": [
       "tensor([[[ 1],\n",
       "         [ 2],\n",
       "         [13],\n",
       "         [14]],\n",
       "\n",
       "        [[ 3],\n",
       "         [ 4],\n",
       "         [15],\n",
       "         [16]],\n",
       "\n",
       "        [[ 5],\n",
       "         [ 6],\n",
       "         [17],\n",
       "         [18]],\n",
       "\n",
       "        [[ 7],\n",
       "         [ 8],\n",
       "         [19],\n",
       "         [20]],\n",
       "\n",
       "        [[ 9],\n",
       "         [10],\n",
       "         [21],\n",
       "         [22]],\n",
       "\n",
       "        [[11],\n",
       "         [12],\n",
       "         [23],\n",
       "         [24]]])"
      ]
     },
     "execution_count": 7,
     "metadata": {},
     "output_type": "execute_result"
    }
   ],
   "source": [
    "rearrange(ims, \"(b1 b2) h w c -> (b2 h) (b1 w) c \", b1=2)"
   ]
  },
  {
   "cell_type": "code",
   "execution_count": 8,
   "id": "64e450f3-88f8-4720-98ac-86ffd7b8abe5",
   "metadata": {},
   "outputs": [
    {
     "data": {
      "text/plain": [
       "tensor([[[ 1],\n",
       "         [ 2],\n",
       "         [ 5],\n",
       "         [ 6],\n",
       "         [ 9],\n",
       "         [10],\n",
       "         [13],\n",
       "         [14],\n",
       "         [17],\n",
       "         [18],\n",
       "         [21],\n",
       "         [22]],\n",
       "\n",
       "        [[ 3],\n",
       "         [ 4],\n",
       "         [ 7],\n",
       "         [ 8],\n",
       "         [11],\n",
       "         [12],\n",
       "         [15],\n",
       "         [16],\n",
       "         [19],\n",
       "         [20],\n",
       "         [23],\n",
       "         [24]]])"
      ]
     },
     "execution_count": 8,
     "metadata": {},
     "output_type": "execute_result"
    }
   ],
   "source": [
    "rearrange(ims, \"(b1 b2) h w c -> h (b1 b2 w) c \", b1=2) #为rearrange(ims, \"b h w c -> h (b w) c\")，(b1 b2 w)这一维，并不是从b11_b21_w1(1和3吧)开始"
   ]
  },
  {
   "cell_type": "code",
   "execution_count": 9,
   "id": "6b4e805d-391a-4d22-b1fd-4397e9cf6a16",
   "metadata": {},
   "outputs": [
    {
     "data": {
      "text/plain": [
       "tensor([[[ 1],\n",
       "         [ 2],\n",
       "         [13],\n",
       "         [14],\n",
       "         [ 5],\n",
       "         [ 6],\n",
       "         [17],\n",
       "         [18],\n",
       "         [ 9],\n",
       "         [10],\n",
       "         [21],\n",
       "         [22]],\n",
       "\n",
       "        [[ 3],\n",
       "         [ 4],\n",
       "         [15],\n",
       "         [16],\n",
       "         [ 7],\n",
       "         [ 8],\n",
       "         [19],\n",
       "         [20],\n",
       "         [11],\n",
       "         [12],\n",
       "         [23],\n",
       "         [24]]])"
      ]
     },
     "execution_count": 9,
     "metadata": {},
     "output_type": "execute_result"
    }
   ],
   "source": [
    "rearrange(ims, \"(b1 b2) h w c -> h (b2 b1 w) c \", b1=2) #不懂"
   ]
  }
 ],
 "metadata": {
  "kernelspec": {
   "display_name": "Python 3 (ipykernel)",
   "language": "python",
   "name": "python3"
  },
  "language_info": {
   "codemirror_mode": {
    "name": "ipython",
    "version": 3
   },
   "file_extension": ".py",
   "mimetype": "text/x-python",
   "name": "python",
   "nbconvert_exporter": "python",
   "pygments_lexer": "ipython3",
   "version": "3.12.4"
  }
 },
 "nbformat": 4,
 "nbformat_minor": 5
}
