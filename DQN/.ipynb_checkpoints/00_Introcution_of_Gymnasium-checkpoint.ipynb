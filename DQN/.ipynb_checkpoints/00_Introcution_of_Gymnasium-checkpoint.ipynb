{
 "cells": [
  {
   "attachments": {
    "image.png": {
     "image/png": "[encoded data removed]"
    }
   },
   "cell_type": "markdown",
   "id": "7df75598",
   "metadata": {},
   "source": [
    "# The Gymnasium Environments\n",
    "Gymnasium, previously gym, is a standard API for reinforcement Learning, with reference environments included.\n",
    "\n",
    "![image.png](attachment:image.png)\n",
    "\n",
    "---"
   ]
  },
  {
   "cell_type": "markdown",
   "id": "05ac8418",
   "metadata": {},
   "source": [
    "### Install Necessary Packages\n",
    "Restart the kernel to make sure new packages can be successfully found."
   ]
  },
  {
   "cell_type": "code",
   "execution_count": 1,
   "id": "4c436f7a",
   "metadata": {
    "scrolled": true
   },
   "outputs": [
    {
     "name": "stdout",
     "output_type": "stream",
     "text": [
      "Defaulting to user installation because normal site-packages is not writeable\n",
      "Requirement already satisfied: torch in /home/lin/.local/lib/python3.10/site-packages (from -r requirements.txt (line 1)) (1.13.0)\n",
      "Requirement already satisfied: torchvision in /home/lin/.local/lib/python3.10/site-packages (from -r requirements.txt (line 2)) (0.14.0)\n",
      "Requirement already satisfied: gymnasium in /home/lin/.local/lib/python3.10/site-packages (from -r requirements.txt (line 3)) (0.26.3)\n",
      "Requirement already satisfied: pillow in /usr/lib/python3.10/site-packages (from -r requirements.txt (line 5)) (9.3.0)\n",
      "Requirement already satisfied: opencv-python in /home/lin/.local/lib/python3.10/site-packages (from -r requirements.txt (line 6)) (4.6.0.66)\n",
      "Requirement already satisfied: nvidia-cublas-cu11==11.10.3.66 in /home/lin/.local/lib/python3.10/site-packages (from torch->-r requirements.txt (line 1)) (11.10.3.66)\n",
      "Requirement already satisfied: typing-extensions in /usr/lib/python3.10/site-packages (from torch->-r requirements.txt (line 1)) (4.4.0)\n",
      "Requirement already satisfied: nvidia-cuda-runtime-cu11==11.7.99 in /home/lin/.local/lib/python3.10/site-packages (from torch->-r requirements.txt (line 1)) (11.7.99)\n",
      "Requirement already satisfied: nvidia-cudnn-cu11==8.5.0.96 in /home/lin/.local/lib/python3.10/site-packages (from torch->-r requirements.txt (line 1)) (8.5.0.96)\n",
      "Requirement already satisfied: nvidia-cuda-nvrtc-cu11==11.7.99 in /home/lin/.local/lib/python3.10/site-packages (from torch->-r requirements.txt (line 1)) (11.7.99)\n",
      "Requirement already satisfied: setuptools in /usr/lib/python3.10/site-packages (from nvidia-cublas-cu11==11.10.3.66->torch->-r requirements.txt (line 1)) (63.4.3)\n",
      "Requirement already satisfied: wheel in /usr/lib/python3.10/site-packages (from nvidia-cublas-cu11==11.10.3.66->torch->-r requirements.txt (line 1)) (0.37.1)\n",
      "Requirement already satisfied: requests in /usr/lib/python3.10/site-packages (from torchvision->-r requirements.txt (line 2)) (2.28.1)\n",
      "Requirement already satisfied: numpy in /usr/lib/python3.10/site-packages (from torchvision->-r requirements.txt (line 2)) (1.23.4)\n",
      "Requirement already satisfied: gymnasium-notices>=0.0.1 in /home/lin/.local/lib/python3.10/site-packages (from gymnasium->-r requirements.txt (line 3)) (0.0.1)\n",
      "Requirement already satisfied: cloudpickle>=1.2.0 in /home/lin/.local/lib/python3.10/site-packages (from gymnasium->-r requirements.txt (line 3)) (2.2.0)\n",
      "Requirement already satisfied: pygame==2.1.0 in /home/lin/.local/lib/python3.10/site-packages (from gymnasium->-r requirements.txt (line 3)) (2.1.0)\n",
      "Requirement already satisfied: idna<4,>=2.5 in /usr/lib/python3.10/site-packages (from requests->torchvision->-r requirements.txt (line 2)) (3.4)\n",
      "Requirement already satisfied: urllib3<1.27,>=1.21.1 in /usr/lib/python3.10/site-packages (from requests->torchvision->-r requirements.txt (line 2)) (1.26.12)\n"
     ]
    }
   ],
   "source": [
    "!pip install -r requirements.txt"
   ]
  },
  {
   "cell_type": "markdown",
   "id": "09aab6e4",
   "metadata": {},
   "source": [
    "### Create an instance of an envrionment\n"
   ]
  },
  {
   "cell_type": "code",
   "execution_count": 2,
   "id": "736a082f",
   "metadata": {},
   "outputs": [],
   "source": [
    "import gymnasium as gym\n",
    "env = gym.make(\"CartPole-v1\", render_mode=\"rgb_array\")"
   ]
  },
  {
   "cell_type": "markdown",
   "id": "1e6678c9",
   "metadata": {},
   "source": [
    "### You can play it as a game:"
   ]
  },
  {
   "cell_type": "code",
   "execution_count": 3,
   "id": "63ae7674",
   "metadata": {},
   "outputs": [
    {
     "data": {
      "text/plain": [
       "'action: left   reward:    1.0'"
      ]
     },
     "metadata": {},
     "output_type": "display_data"
    }
   ],
   "source": [
    "from gymnasium.utils.play import play\n",
    "from IPython.display import display\n",
    "\n",
    "mapping = {\n",
    "    \"a\": 0,\n",
    "    \"d\": 1\n",
    "}\n",
    "\n",
    "def callback(state_1, state_2, action, reward, *_):\n",
    "    display(\"action: {:6} reward: {:6}\".format(\n",
    "        \"right\" if action == 1 else \"left\",\n",
    "        reward\n",
    "    ), clear=True)\n",
    "\n",
    "play(env, keys_to_action=mapping, fps=5, callback=callback)"
   ]
  },
  {
   "cell_type": "markdown",
   "id": "82abba0a",
   "metadata": {},
   "source": [
    "### apply a policy (random policy here):"
   ]
  },
  {
   "cell_type": "code",
   "execution_count": 4,
   "id": "8a225f22",
   "metadata": {
    "scrolled": true
   },
   "outputs": [
    {
     "data": {
      "text/plain": [
       "'observation: [ 0.14400306  0.7877417  -0.15070018 -0.9794269 ] action: 1'"
      ]
     },
     "metadata": {},
     "output_type": "display_data"
    }
   ],
   "source": [
    "def probe(obs, act):\n",
    "    display(\"observation: {} action: {}\".format(obs, act), clear=True)\n",
    "\n",
    "def random_policy(obs, callback=None):\n",
    "    act = env.action_space.sample()\n",
    "    if callback:\n",
    "        callback(obs, act)\n",
    "    return act\n",
    "\n",
    "def simulate(policy, env, steps=1000, policy_callback=None):\n",
    "    obs, info = env.reset()\n",
    "    for _ in range(steps):\n",
    "        action = policy(obs, policy_callback)\n",
    "        obs, reward, terminated, truncated, info = env.step(action)\n",
    "    \n",
    "        if terminated or truncated:\n",
    "            obs, info = env.reset()\n",
    "    env.close()\n",
    "\n",
    "simulate(random_policy, env, policy_callback=probe)"
   ]
  },
  {
   "cell_type": "markdown",
   "id": "ccac5409",
   "metadata": {},
   "source": [
    "To decode the observation and action from vector and scalar, check the [document](https://gymnasium.farama.org/environments/classic_control/cart_pole/)."
   ]
  },
  {
   "cell_type": "markdown",
   "id": "3ff8d5c2",
   "metadata": {},
   "source": [
    "### Or a RL agent:"
   ]
  },
  {
   "cell_type": "code",
   "execution_count": 5,
   "id": "509c31ef",
   "metadata": {},
   "outputs": [],
   "source": [
    "import torch\n",
    "from DQN.dqn import DQN, DQNTrainer, EpsGreedy\n",
    "from itertools import count\n",
    "\n",
    "env = gym.make(\"CartPole-v1\", render_mode=\"human\")\n",
    "\n",
    "dim_state = env.observation_space.shape[0]\n",
    "n_actions = env.action_space.n\n",
    "\n",
    "q_net = DQN(dim_state, n_actions)\n",
    "q_net.load(\"DQN/q_net.pth\")\n",
    "\n",
    "policy = EpsGreedy(q_net)\n",
    "\n",
    "state, _ = env.reset()\n",
    "for _ in count():\n",
    "    action = policy.get_action(state)\n",
    "    state, reward, terminated, truncated, info = env.step(action)\n",
    "    if terminated or truncated:\n",
    "        break\n",
    "env.close()"
   ]
  },
  {
   "cell_type": "markdown",
   "id": "06b703b6",
   "metadata": {},
   "source": [
    "### To modify environment\n",
    "Use wrapper to change the environment.\n",
    "\n",
    "For example, to change observation from 4-dimensional vector to visual observation:"
   ]
  },
  {
   "cell_type": "code",
   "execution_count": 6,
   "id": "8ac94e15",
   "metadata": {},
   "outputs": [
    {
     "data": {
      "image/png": "[encoded data removed]",
      "text/plain": [
       "<PIL.Image.Image image mode=RGB size=600x400>"
      ]
     },
     "metadata": {},
     "output_type": "display_data"
    },
    {
     "data": {
      "text/plain": [
       "'action: 0'"
      ]
     },
     "metadata": {},
     "output_type": "display_data"
    }
   ],
   "source": [
    "from PIL import Image\n",
    "import time\n",
    "\n",
    "class OnlyPixel(gym.ObservationWrapper):\n",
    "  \"\"\"\n",
    "  Wrapping PixelObservationWrapper to make it really pixel only.\n",
    "  \"\"\"\n",
    "  def __init__(self, env):\n",
    "    super().__init__(env)\n",
    "    self.env = gym.wrappers.PixelObservationWrapper(env, pixels_only=True)\n",
    "    self.observation_space = self.observation_space[\"pixels\"]\n",
    "    \n",
    "  def observation(self, observation):\n",
    "    return observation[\"pixels\"]\n",
    "\n",
    "\n",
    "def pixelProbe(obs, act):\n",
    "    display(Image.fromarray(obs), \"action: {}\".format(act), clear=True)\n",
    "    time.sleep(0.05)\n",
    "\n",
    "env = gym.make(\"CartPole-v1\", render_mode=\"rgb_array\")\n",
    "pixelEnv = OnlyPixel(env)\n",
    "simulate(random_policy, pixelEnv, policy_callback=pixelProbe)\n"
   ]
  },
  {
   "cell_type": "code",
   "execution_count": null,
   "id": "3ce01f20",
   "metadata": {},
   "outputs": [],
   "source": []
  }
 ],
 "metadata": {
  "kernelspec": {
   "display_name": "PGC_ML",
   "language": "python",
   "name": "pgc_ml"
  },
  "language_info": {
   "codemirror_mode": {
    "name": "ipython",
    "version": 3
   },
   "file_extension": ".py",
   "mimetype": "text/x-python",
   "name": "python",
   "nbconvert_exporter": "python",
   "pygments_lexer": "ipython3",
   "version": "3.10.8"
  }
 },
 "nbformat": 4,
 "nbformat_minor": 5
}
